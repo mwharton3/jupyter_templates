{
 "cells": [
  {
   "cell_type": "code",
   "execution_count": 1,
   "metadata": {
    "ExecuteTime": {
     "end_time": "2019-01-21T23:42:50.603412Z",
     "start_time": "2019-01-21T23:42:50.599424Z"
    }
   },
   "outputs": [],
   "source": [
    "# This is an example from Deep Learning with Python (F. Chollet)\n",
    "# It uses a two-hidden-layer DNN to classify reuters news reports,\n",
    "# which is a multiclass labeled dataset."
   ]
  },
  {
   "cell_type": "code",
   "execution_count": 2,
   "metadata": {
    "ExecuteTime": {
     "end_time": "2019-01-21T23:42:52.496635Z",
     "start_time": "2019-01-21T23:42:51.219015Z"
    }
   },
   "outputs": [
    {
     "name": "stderr",
     "output_type": "stream",
     "text": [
      "Using TensorFlow backend.\n"
     ]
    }
   ],
   "source": [
    "from keras.datasets import reuters\n",
    "from keras.utils.np_utils import to_categorical\n",
    "from keras import models\n",
    "from keras import layers\n",
    "import matplotlib.pyplot as plt\n",
    "#import numpy as np\n",
    "%matplotlib inline\n",
    "\n",
    "import os  # Fix plot issue on Mac OS X\n",
    "os.environ['KMP_DUPLICATE_LIB_OK']='True'"
   ]
  },
  {
   "cell_type": "code",
   "execution_count": 3,
   "metadata": {
    "ExecuteTime": {
     "end_time": "2019-01-21T23:42:53.067147Z",
     "start_time": "2019-01-21T23:42:52.551324Z"
    }
   },
   "outputs": [],
   "source": [
    "(train_data, train_labels), (test_data, test_labels) = reuters.load_data(num_words=10000)"
   ]
  },
  {
   "cell_type": "code",
   "execution_count": 4,
   "metadata": {
    "ExecuteTime": {
     "end_time": "2019-01-21T23:42:53.203740Z",
     "start_time": "2019-01-21T23:42:53.113096Z"
    }
   },
   "outputs": [
    {
     "name": "stdout",
     "output_type": "stream",
     "text": [
      "? ? ? said as a result of its december acquisition of space co it expects earnings per share in 1987 of 1 15 to 1 30 dlrs per share up from 70 cts in 1986 the company said pretax net should rise to nine to 10 mln dlrs from six mln dlrs in 1986 and rental operation revenues to 19 to 22 mln dlrs from 12 5 mln dlrs it said cash flow per share this year should be 2 50 to three dlrs reuter 3\n"
     ]
    }
   ],
   "source": [
    "# Look at the data. It's a sequence of words, encoded by imdb.get_word_index()\n",
    "word_index = reuters.get_word_index()\n",
    "reverse_word_index = dict([(value, key) for (key, value) in word_index.items()])\n",
    "decoded_newswire = ' '.join([reverse_word_index.get(i - 3, '?') for i in train_data[0]])\n",
    "print(decoded_newswire)"
   ]
  },
  {
   "cell_type": "code",
   "execution_count": 5,
   "metadata": {
    "ExecuteTime": {
     "end_time": "2019-01-21T23:42:53.723605Z",
     "start_time": "2019-01-21T23:42:53.379513Z"
    }
   },
   "outputs": [],
   "source": [
    "# Encode the integers in the training and test sequences\n",
    "def vectorize_sequences(sequences, dimension=10000):\n",
    "    results = np.zeros((len(sequences), dimension))\n",
    "    for i, sequence in enumerate(sequences):\n",
    "        results[i, sequence] = 1\n",
    "    return results\n",
    "x_train = vectorize_sequences(train_data)\n",
    "x_test = vectorize_sequences(test_data)\n",
    "\n",
    "# Use one hot encoding, as labels are categorical\n",
    "def to_one_hot(labels, dimension=46):\n",
    "    results = np.zeros((len(labels), dimension))\n",
    "    for i, label in enumerate(labels):\n",
    "        results[i, label] = 1\n",
    "    return results\n",
    "\n",
    "# Encode the labels\n",
    "one_hot_train_labels = to_one_hot(train_labels)\n",
    "one_hot_test_labels = to_one_hot(test_labels)\n",
    "\n",
    "# You can also use the keras built-in for this, we'll overwrite with that\n",
    "one_hot_train_labels = to_categorical(train_labels)\n",
    "one_hot_test_labels = to_categorical(test_labels)"
   ]
  },
  {
   "cell_type": "code",
   "execution_count": 6,
   "metadata": {
    "ExecuteTime": {
     "end_time": "2019-01-21T23:42:53.951311Z",
     "start_time": "2019-01-21T23:42:53.898065Z"
    }
   },
   "outputs": [],
   "source": [
    "# Define the model architecture. This one is really simple:\n",
    "# Two hidden layers w/ 64 outputs/ea, and 46 sigmoid outputs\n",
    "# Important: 'softmax' on the output layer ensures that the\n",
    "#            outputs sum to 1, as it is a probability \n",
    "#            distribution.\n",
    "# Another important note: don't inadvertently put information\n",
    "#            bottlenecks in your network. This will compress\n",
    "#            the input data to the point that information is\n",
    "#            lost. Think of trying to compress an image into\n",
    "#            4 pixels...\n",
    "model = models.Sequential()\n",
    "model.add(layers.Dense(64, activation='relu', input_shape=(10000,)))\n",
    "model.add(layers.Dense(64, activation='relu'))\n",
    "model.add(layers.Dense(46, activation='softmax'))"
   ]
  },
  {
   "cell_type": "code",
   "execution_count": 7,
   "metadata": {
    "ExecuteTime": {
     "end_time": "2019-01-21T23:42:54.160973Z",
     "start_time": "2019-01-21T23:42:54.114440Z"
    }
   },
   "outputs": [],
   "source": [
    "# Compile the model\n",
    "# \"categorical_crossentropy measures the distance between two probability distributions: here,\n",
    "#  between the probability distribution output by the nework and the true distribution of the labels.\"\n",
    "model.compile(optimizer='rmsprop', loss='categorical_crossentropy', metrics=['accuracy'])"
   ]
  },
  {
   "cell_type": "code",
   "execution_count": 8,
   "metadata": {
    "ExecuteTime": {
     "end_time": "2019-01-21T23:42:54.352726Z",
     "start_time": "2019-01-21T23:42:54.349463Z"
    }
   },
   "outputs": [],
   "source": [
    "# Set aside some validation data\n",
    "x_val = x_train[:1000]\n",
    "partial_x_train = x_train[1000:]\n",
    "\n",
    "y_val = one_hot_train_labels[:1000]\n",
    "partial_y_train = one_hot_train_labels[1000:]"
   ]
  },
  {
   "cell_type": "code",
   "execution_count": 9,
   "metadata": {
    "ExecuteTime": {
     "end_time": "2019-01-21T23:43:09.558226Z",
     "start_time": "2019-01-21T23:42:54.524168Z"
    },
    "scrolled": true
   },
   "outputs": [
    {
     "name": "stdout",
     "output_type": "stream",
     "text": [
      "Train on 7982 samples, validate on 1000 samples\n",
      "Epoch 1/20\n",
      "7982/7982 [==============================] - 2s 204us/step - loss: 2.5322 - acc: 0.4955 - val_loss: 1.7211 - val_acc: 0.6110\n",
      "Epoch 2/20\n",
      "7982/7982 [==============================] - 1s 94us/step - loss: 1.4456 - acc: 0.6874 - val_loss: 1.3470 - val_acc: 0.7070\n",
      "Epoch 3/20\n",
      "7982/7982 [==============================] - 1s 88us/step - loss: 1.0960 - acc: 0.7650 - val_loss: 1.1722 - val_acc: 0.7430\n",
      "Epoch 4/20\n",
      "7982/7982 [==============================] - 1s 91us/step - loss: 0.8705 - acc: 0.8156 - val_loss: 1.0820 - val_acc: 0.7580\n",
      "Epoch 5/20\n",
      "7982/7982 [==============================] - 1s 93us/step - loss: 0.7038 - acc: 0.8474 - val_loss: 0.9847 - val_acc: 0.7820\n",
      "Epoch 6/20\n",
      "7982/7982 [==============================] - 1s 90us/step - loss: 0.5671 - acc: 0.8797 - val_loss: 0.9412 - val_acc: 0.8030\n",
      "Epoch 7/20\n",
      "7982/7982 [==============================] - 1s 87us/step - loss: 0.4586 - acc: 0.9048 - val_loss: 0.9072 - val_acc: 0.8020\n",
      "Epoch 8/20\n",
      "7982/7982 [==============================] - 1s 85us/step - loss: 0.3697 - acc: 0.9226 - val_loss: 0.9340 - val_acc: 0.7890\n",
      "Epoch 9/20\n",
      "7982/7982 [==============================] - 1s 85us/step - loss: 0.3036 - acc: 0.9310 - val_loss: 0.8918 - val_acc: 0.8080\n",
      "Epoch 10/20\n",
      "7982/7982 [==============================] - 1s 85us/step - loss: 0.2543 - acc: 0.9419 - val_loss: 0.9067 - val_acc: 0.8120\n",
      "Epoch 11/20\n",
      "7982/7982 [==============================] - 1s 85us/step - loss: 0.2188 - acc: 0.9468 - val_loss: 0.9165 - val_acc: 0.8140\n",
      "Epoch 12/20\n",
      "7982/7982 [==============================] - 1s 85us/step - loss: 0.1876 - acc: 0.9506 - val_loss: 0.9049 - val_acc: 0.8140\n",
      "Epoch 13/20\n",
      "7982/7982 [==============================] - 1s 84us/step - loss: 0.1703 - acc: 0.9521 - val_loss: 0.9330 - val_acc: 0.8100\n",
      "Epoch 14/20\n",
      "7982/7982 [==============================] - 1s 85us/step - loss: 0.1537 - acc: 0.9551 - val_loss: 0.9672 - val_acc: 0.8090\n",
      "Epoch 15/20\n",
      "7982/7982 [==============================] - 1s 85us/step - loss: 0.1390 - acc: 0.9560 - val_loss: 0.9683 - val_acc: 0.8140\n",
      "Epoch 16/20\n",
      "7982/7982 [==============================] - 1s 84us/step - loss: 0.1316 - acc: 0.9559 - val_loss: 1.0266 - val_acc: 0.8010\n",
      "Epoch 17/20\n",
      "7982/7982 [==============================] - 1s 85us/step - loss: 0.1221 - acc: 0.9579 - val_loss: 1.0254 - val_acc: 0.7970\n",
      "Epoch 18/20\n",
      "7982/7982 [==============================] - 1s 85us/step - loss: 0.1197 - acc: 0.9579 - val_loss: 1.0412 - val_acc: 0.8060\n",
      "Epoch 19/20\n",
      "7982/7982 [==============================] - 1s 85us/step - loss: 0.1139 - acc: 0.9594 - val_loss: 1.0999 - val_acc: 0.7960\n",
      "Epoch 20/20\n",
      "7982/7982 [==============================] - 1s 91us/step - loss: 0.1113 - acc: 0.9592 - val_loss: 1.0715 - val_acc: 0.8010\n"
     ]
    }
   ],
   "source": [
    "history = model.fit(partial_x_train, partial_y_train, epochs=20, batch_size=512, validation_data=(x_val, y_val))"
   ]
  },
  {
   "cell_type": "code",
   "execution_count": 10,
   "metadata": {
    "ExecuteTime": {
     "end_time": "2019-01-21T23:43:09.956866Z",
     "start_time": "2019-01-21T23:43:09.764153Z"
    }
   },
   "outputs": [
    {
     "data": {
      "image/png": "[encoded data removed]",
      "text/plain": [
       "<Figure size 432x288 with 1 Axes>"
      ]
     },
     "metadata": {
      "needs_background": "light"
     },
     "output_type": "display_data"
    }
   ],
   "source": [
    "loss = history.history['loss']\n",
    "val_loss = history.history['val_loss']\n",
    "\n",
    "epochs = range(1, len(loss) + 1)\n",
    "\n",
    "plt.plot(epochs, loss, 'bo', label='Training loss')\n",
    "plt.plot(epochs, val_loss, 'b', label='Validation loss')\n",
    "plt.title('Training and validation loss')\n",
    "plt.xlabel('Epochs')\n",
    "plt.ylabel('Loss')\n",
    "plt.legend()\n",
    "\n",
    "plt.show()"
   ]
  },
  {
   "cell_type": "code",
   "execution_count": 11,
   "metadata": {
    "ExecuteTime": {
     "end_time": "2019-01-21T23:43:10.345803Z",
     "start_time": "2019-01-21T23:43:10.182473Z"
    }
   },
   "outputs": [
    {
     "data": {
      "image/png": "[encoded data removed]",
      "text/plain": [
       "<Figure size 432x288 with 1 Axes>"
      ]
     },
     "metadata": {
      "needs_background": "light"
     },
     "output_type": "display_data"
    }
   ],
   "source": [
    "acc = history.history['acc']\n",
    "val_acc = history.history['val_acc']\n",
    "\n",
    "plt.plot(epochs, acc, 'bo', label='Training acc')\n",
    "plt.plot(epochs, val_acc, 'b', label='Validation acc')\n",
    "plt.title('Training and validation accuracy')\n",
    "plt.xlabel('Epochs')\n",
    "plt.ylabel('Loss')\n",
    "plt.legend()\n",
    "\n",
    "plt.show()"
   ]
  },
  {
   "cell_type": "code",
   "execution_count": 12,
   "metadata": {
    "ExecuteTime": {
     "end_time": "2019-01-21T23:43:19.226815Z",
     "start_time": "2019-01-21T23:43:10.553718Z"
    },
    "scrolled": true
   },
   "outputs": [
    {
     "name": "stdout",
     "output_type": "stream",
     "text": [
      "Train on 7982 samples, validate on 1000 samples\n",
      "Epoch 1/9\n",
      "7982/7982 [==============================] - 2s 203us/step - loss: 2.5396 - acc: 0.5226 - val_loss: 1.6731 - val_acc: 0.6570\n",
      "Epoch 2/9\n",
      "7982/7982 [==============================] - 1s 92us/step - loss: 1.3716 - acc: 0.7119 - val_loss: 1.2758 - val_acc: 0.7210\n",
      "Epoch 3/9\n",
      "7982/7982 [==============================] - 1s 91us/step - loss: 1.0142 - acc: 0.7781 - val_loss: 1.1297 - val_acc: 0.7530\n",
      "Epoch 4/9\n",
      "7982/7982 [==============================] - 1s 120us/step - loss: 0.7984 - acc: 0.8246 - val_loss: 1.0543 - val_acc: 0.7600\n",
      "Epoch 5/9\n",
      "7982/7982 [==============================] - 1s 100us/step - loss: 0.6398 - acc: 0.8632 - val_loss: 0.9758 - val_acc: 0.7940\n",
      "Epoch 6/9\n",
      "7982/7982 [==============================] - 1s 120us/step - loss: 0.5119 - acc: 0.8925 - val_loss: 0.9094 - val_acc: 0.8150\n",
      "Epoch 7/9\n",
      "7982/7982 [==============================] - 1s 115us/step - loss: 0.4108 - acc: 0.9149 - val_loss: 0.8910 - val_acc: 0.8220\n",
      "Epoch 8/9\n",
      "7982/7982 [==============================] - 1s 93us/step - loss: 0.3349 - acc: 0.9288 - val_loss: 0.8710 - val_acc: 0.8260\n",
      "Epoch 9/9\n",
      "7982/7982 [==============================] - 1s 87us/step - loss: 0.2778 - acc: 0.9371 - val_loss: 0.9348 - val_acc: 0.8020\n",
      "2246/2246 [==============================] - 0s 84us/step\n"
     ]
    },
    {
     "data": {
      "text/plain": [
       "[1.022867080046466, 0.7778272484947504]"
      ]
     },
     "execution_count": 12,
     "metadata": {},
     "output_type": "execute_result"
    }
   ],
   "source": [
    "# Rebuild the network and retrain for only 9 epochs\n",
    "model = models.Sequential()\n",
    "model.add(layers.Dense(64, activation='relu', input_shape=(10000,)))\n",
    "model.add(layers.Dense(64, activation='relu'))\n",
    "model.add(layers.Dense(46, activation='softmax'))\n",
    "model.compile(optimizer='rmsprop', loss='categorical_crossentropy', metrics=['accuracy'])\n",
    "model.fit(partial_x_train, partial_y_train, epochs=9, batch_size=512, validation_data=(x_val, y_val))\n",
    "results = model.evaluate(x_test, one_hot_test_labels)\n",
    "results  # Note: first qty is loss and second qty is metric (defined in compile statement)"
   ]
  },
  {
   "cell_type": "code",
   "execution_count": 15,
   "metadata": {
    "ExecuteTime": {
     "end_time": "2019-01-21T23:43:34.696717Z",
     "start_time": "2019-01-21T23:43:34.550980Z"
    }
   },
   "outputs": [
    {
     "name": "stdout",
     "output_type": "stream",
     "text": [
      "Predictions shape: (46,)\n",
      "Sum of first prediction vector: 1.0\n",
      "Prediction for first entry: 3\n"
     ]
    }
   ],
   "source": [
    "# Look at some predictions\n",
    "pred = model.predict(x_test)\n",
    "print('Predictions shape: ' + repr(pred[0].shape))\n",
    "print('Sum of first prediction vector: %.1f' % (np.sum(pred[0])))\n",
    "print('Prediction for first entry: %d' % (np.argmax(pred[0])))"
   ]
  },
  {
   "cell_type": "code",
   "execution_count": 14,
   "metadata": {
    "ExecuteTime": {
     "end_time": "2019-01-21T23:43:19.738611Z",
     "start_time": "2019-01-21T23:43:19.735651Z"
    }
   },
   "outputs": [],
   "source": [
    "# Note: you can also have sparse categorical labels, i.e. a single\n",
    "#       integer for each classification. This would need the loss\n",
    "#       function to be 'sparse_categorical_entropy'"
   ]
  }
 ],
 "metadata": {
  "kernelspec": {
   "display_name": "Python 3",
   "language": "python",
   "name": "python3"
  },
  "language_info": {
   "codemirror_mode": {
    "name": "ipython",
    "version": 3
   },
   "file_extension": ".py",
   "mimetype": "text/x-python",
   "name": "python",
   "nbconvert_exporter": "python",
   "pygments_lexer": "ipython3",
   "version": "3.6.8"
  },
  "varInspector": {
   "cols": {
    "lenName": 16,
    "lenType": 16,
    "lenVar": 40
   },
   "kernels_config": {
    "python": {
     "delete_cmd_postfix": "",
     "delete_cmd_prefix": "del ",
     "library": "var_list.py",
     "varRefreshCmd": "print(var_dic_list())"
    },
    "r": {
     "delete_cmd_postfix": ") ",
     "delete_cmd_prefix": "rm(",
     "library": "var_list.r",
     "varRefreshCmd": "cat(var_dic_list()) "
    }
   },
   "types_to_exclude": [
    "module",
    "function",
    "builtin_function_or_method",
    "instance",
    "_Feature"
   ],
   "window_display": false
  }
 },
 "nbformat": 4,
 "nbformat_minor": 2
}
